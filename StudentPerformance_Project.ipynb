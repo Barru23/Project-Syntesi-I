{
  "nbformat": 4,
  "nbformat_minor": 0,
  "metadata": {
    "colab": {
      "provenance": [],
      "include_colab_link": true
    },
    "kernelspec": {
      "name": "python3",
      "display_name": "Python 3"
    },
    "language_info": {
      "name": "python"
    }
  },
  "cells": [
    {
      "cell_type": "markdown",
      "metadata": {
        "id": "view-in-github",
        "colab_type": "text"
      },
      "source": [
        "<a href=\"https://colab.research.google.com/github/Barru23/Project-Syntesi-I/blob/main/StudentPerformance_Project.ipynb\" target=\"_parent\"><img src=\"https://colab.research.google.com/assets/colab-badge.svg\" alt=\"Open In Colab\"/></a>"
      ]
    },
    {
      "cell_type": "markdown",
      "source": [
        "# Synthesis Project"
      ],
      "metadata": {
        "id": "rZElr6ryEpQm"
      }
    },
    {
      "cell_type": "markdown",
      "source": [
        "Code repository: If you haven't done so yet, create a repository on GitHub to upload all the code that you will generate during the semester.\n",
        "\n",
        "Organize tasks: Use a GitHub Projects (or any other \"canva project management\") to manage the project tasks. Don't forget to assign who does what and keep good track of the tasks to be done (Todo), completed (Completed), in progress, etc. In the virtual campus you have documentation for creating the project on GitHub (Section \"Resources\" -> \"Planning and tracking with GitHub Projects\").\n",
        "\n",
        "Research the state of the art: Spend time researching existing solutions and technology related to your project. This part will help you have a solid foundation to move forward.\n",
        "\n",
        "Advance as much as you can with project development tasks. This week we will publish the data that the \"project owner\" has sent us and you will be able to move further in this direction."
      ],
      "metadata": {
        "id": "sxqPgPGCEl6F"
      }
    }
  ]
}